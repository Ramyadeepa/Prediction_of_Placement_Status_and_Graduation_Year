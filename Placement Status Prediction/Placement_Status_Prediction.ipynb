{
  "cells": [
    {
      "cell_type": "code",
      "execution_count": 268,
      "metadata": {
        "colab": {
          "base_uri": "https://localhost:8080/"
        },
        "id": "WJEKvvbgqedf",
        "outputId": "a71f384c-e200-41ef-fa9d-fb9a44f6711e"
      },
      "outputs": [],
      "source": [
        "#import necessary libraries\n",
        "import pandas as pd\n",
        "from sklearn.preprocessing import LabelEncoder\n",
        "from sklearn.model_selection import train_test_split\n",
        "from sklearn.preprocessing import StandardScaler\n",
        "from sklearn.linear_model import LogisticRegression\n",
        "from sklearn.metrics import confusion_matrix\n",
        "from sklearn.metrics import accuracy_score"
      ]
    },
    {
      "cell_type": "code",
      "execution_count": 269,
      "metadata": {
        "id": "mGnGLNDMqnHn"
      },
      "outputs": [],
      "source": [
        "#set file path\n",
        "pptrainpath = 'C:/Users/ramya/Documents/Cloud Counselage Intern/Machine Learning Intern Projects/Data/05 Input Data/Prediction of Placement Status Data/01 Train Data.xlsx'\n",
        "pptestpath = 'C:/Users/ramya/Documents/Cloud Counselage Intern/Machine Learning Intern Projects/Data/05 Input Data/Prediction of Placement Status Data/02 Test Data.xlsx'"
      ]
    },
    {
      "cell_type": "code",
      "execution_count": 270,
      "metadata": {
        "colab": {
          "base_uri": "https://localhost:8080/",
          "height": 654
        },
        "id": "8hsi-MvTMR57",
        "outputId": "e24446ad-e611-4e13-bf65-116eaadaed1a"
      },
      "outputs": [
        {
          "data": {
            "text/html": [
              "<div>\n",
              "<style scoped>\n",
              "    .dataframe tbody tr th:only-of-type {\n",
              "        vertical-align: middle;\n",
              "    }\n",
              "\n",
              "    .dataframe tbody tr th {\n",
              "        vertical-align: top;\n",
              "    }\n",
              "\n",
              "    .dataframe thead th {\n",
              "        text-align: right;\n",
              "    }\n",
              "</style>\n",
              "<table border=\"1\" class=\"dataframe\">\n",
              "  <thead>\n",
              "    <tr style=\"text-align: right;\">\n",
              "      <th></th>\n",
              "      <th>First Name</th>\n",
              "      <th>Email ID</th>\n",
              "      <th>Quantity</th>\n",
              "      <th>Price Tier</th>\n",
              "      <th>Ticket Type</th>\n",
              "      <th>Attendee #</th>\n",
              "      <th>Group</th>\n",
              "      <th>Order Type</th>\n",
              "      <th>Currency</th>\n",
              "      <th>Total Paid</th>\n",
              "      <th>...</th>\n",
              "      <th>Attendee Status</th>\n",
              "      <th>College Name</th>\n",
              "      <th>How did you come to know about this event?</th>\n",
              "      <th>Specify in \"Others\" (how did you come to know about this event)</th>\n",
              "      <th>Designation</th>\n",
              "      <th>Year of Graduation</th>\n",
              "      <th>CGPA</th>\n",
              "      <th>Speaking Skills</th>\n",
              "      <th>ML Knowledge</th>\n",
              "      <th>Placement Status</th>\n",
              "    </tr>\n",
              "  </thead>\n",
              "  <tbody>\n",
              "    <tr>\n",
              "      <th>0</th>\n",
              "      <td>ANIKET</td>\n",
              "      <td>aniket@xyz.com</td>\n",
              "      <td>1</td>\n",
              "      <td>NaN</td>\n",
              "      <td>Art of Resume Building</td>\n",
              "      <td>2.213855e+09</td>\n",
              "      <td>NaN</td>\n",
              "      <td>Free Order</td>\n",
              "      <td>USD</td>\n",
              "      <td>0</td>\n",
              "      <td>...</td>\n",
              "      <td>Attending</td>\n",
              "      <td>D Y PATIL INSTITUTE OF MCA AND MANAGEMENT AKUR...</td>\n",
              "      <td>Email</td>\n",
              "      <td>NaN</td>\n",
              "      <td>Students</td>\n",
              "      <td>NaN</td>\n",
              "      <td>6.7</td>\n",
              "      <td>2</td>\n",
              "      <td>5</td>\n",
              "      <td>Placed</td>\n",
              "    </tr>\n",
              "    <tr>\n",
              "      <th>1</th>\n",
              "      <td>Dhanshree</td>\n",
              "      <td>dhanshree@xyz.com</td>\n",
              "      <td>1</td>\n",
              "      <td>NaN</td>\n",
              "      <td>Art of Resume Building</td>\n",
              "      <td>2.213859e+09</td>\n",
              "      <td>NaN</td>\n",
              "      <td>Free Order</td>\n",
              "      <td>USD</td>\n",
              "      <td>0</td>\n",
              "      <td>...</td>\n",
              "      <td>Attending</td>\n",
              "      <td>AP SHAH INSTITUTE OF TECHNOLOGY</td>\n",
              "      <td>Others</td>\n",
              "      <td>College</td>\n",
              "      <td>Students</td>\n",
              "      <td>NaN</td>\n",
              "      <td>8.2</td>\n",
              "      <td>3</td>\n",
              "      <td>2</td>\n",
              "      <td>Not placed</td>\n",
              "    </tr>\n",
              "    <tr>\n",
              "      <th>2</th>\n",
              "      <td>Dhiraj</td>\n",
              "      <td>dhiraj@xyz.com</td>\n",
              "      <td>1</td>\n",
              "      <td>NaN</td>\n",
              "      <td>Art of Resume Building</td>\n",
              "      <td>2.213862e+09</td>\n",
              "      <td>NaN</td>\n",
              "      <td>Free Order</td>\n",
              "      <td>USD</td>\n",
              "      <td>0</td>\n",
              "      <td>...</td>\n",
              "      <td>Attending</td>\n",
              "      <td>Don Bosco College of Engineering Fatorda Goa</td>\n",
              "      <td>Email</td>\n",
              "      <td>NaN</td>\n",
              "      <td>Students</td>\n",
              "      <td>NaN</td>\n",
              "      <td>6.5</td>\n",
              "      <td>4</td>\n",
              "      <td>3</td>\n",
              "      <td>Not placed</td>\n",
              "    </tr>\n",
              "    <tr>\n",
              "      <th>3</th>\n",
              "      <td>Pooja</td>\n",
              "      <td>pooja@xyz.com</td>\n",
              "      <td>1</td>\n",
              "      <td>NaN</td>\n",
              "      <td>Art of Resume Building</td>\n",
              "      <td>2.213988e+09</td>\n",
              "      <td>NaN</td>\n",
              "      <td>Free Order</td>\n",
              "      <td>USD</td>\n",
              "      <td>0</td>\n",
              "      <td>...</td>\n",
              "      <td>Attending</td>\n",
              "      <td>Pillai College of Engineering New Panvel</td>\n",
              "      <td>Email</td>\n",
              "      <td>NaN</td>\n",
              "      <td>Students</td>\n",
              "      <td>NaN</td>\n",
              "      <td>8.7</td>\n",
              "      <td>2</td>\n",
              "      <td>5</td>\n",
              "      <td>Not placed</td>\n",
              "    </tr>\n",
              "    <tr>\n",
              "      <th>4</th>\n",
              "      <td>Aayush</td>\n",
              "      <td>aayush@xyz.com</td>\n",
              "      <td>1</td>\n",
              "      <td>NaN</td>\n",
              "      <td>Art of Resume Building</td>\n",
              "      <td>2.214567e+09</td>\n",
              "      <td>NaN</td>\n",
              "      <td>Free Order</td>\n",
              "      <td>USD</td>\n",
              "      <td>0</td>\n",
              "      <td>...</td>\n",
              "      <td>Attending</td>\n",
              "      <td>St Xavier's College</td>\n",
              "      <td>Instagram | LinkedIn | Cloud Counselage Website</td>\n",
              "      <td>NaN</td>\n",
              "      <td>Students</td>\n",
              "      <td>NaN</td>\n",
              "      <td>9.1</td>\n",
              "      <td>3</td>\n",
              "      <td>5</td>\n",
              "      <td>Placed</td>\n",
              "    </tr>\n",
              "  </tbody>\n",
              "</table>\n",
              "<p>5 rows × 23 columns</p>\n",
              "</div>"
            ],
            "text/plain": [
              "  First Name           Email ID  Quantity  Price Tier             Ticket Type  \\\n",
              "0     ANIKET     aniket@xyz.com         1         NaN  Art of Resume Building   \n",
              "1  Dhanshree  dhanshree@xyz.com         1         NaN  Art of Resume Building   \n",
              "2     Dhiraj     dhiraj@xyz.com         1         NaN  Art of Resume Building   \n",
              "3      Pooja      pooja@xyz.com         1         NaN  Art of Resume Building   \n",
              "4     Aayush     aayush@xyz.com         1         NaN  Art of Resume Building   \n",
              "\n",
              "     Attendee #  Group  Order Type Currency  Total Paid  ...  Attendee Status  \\\n",
              "0  2.213855e+09    NaN  Free Order      USD           0  ...        Attending   \n",
              "1  2.213859e+09    NaN  Free Order      USD           0  ...        Attending   \n",
              "2  2.213862e+09    NaN  Free Order      USD           0  ...        Attending   \n",
              "3  2.213988e+09    NaN  Free Order      USD           0  ...        Attending   \n",
              "4  2.214567e+09    NaN  Free Order      USD           0  ...        Attending   \n",
              "\n",
              "                                        College Name  \\\n",
              "0  D Y PATIL INSTITUTE OF MCA AND MANAGEMENT AKUR...   \n",
              "1                   AP SHAH INSTITUTE OF TECHNOLOGY    \n",
              "2       Don Bosco College of Engineering Fatorda Goa   \n",
              "3           Pillai College of Engineering New Panvel   \n",
              "4                               St Xavier's College    \n",
              "\n",
              "        How did you come to know about this event?  \\\n",
              "0                                            Email   \n",
              "1                                           Others   \n",
              "2                                            Email   \n",
              "3                                            Email   \n",
              "4  Instagram | LinkedIn | Cloud Counselage Website   \n",
              "\n",
              "  Specify in \"Others\" (how did you come to know about this event) Designation  \\\n",
              "0                                                NaN                 Students   \n",
              "1                                            College                 Students   \n",
              "2                                                NaN                 Students   \n",
              "3                                                NaN                 Students   \n",
              "4                                                NaN                 Students   \n",
              "\n",
              "  Year of Graduation CGPA Speaking Skills ML Knowledge  Placement Status  \n",
              "0                NaN  6.7               2            5            Placed  \n",
              "1                NaN  8.2               3            2        Not placed  \n",
              "2                NaN  6.5               4            3        Not placed  \n",
              "3                NaN  8.7               2            5        Not placed  \n",
              "4                NaN  9.1               3            5            Placed  \n",
              "\n",
              "[5 rows x 23 columns]"
            ]
          },
          "execution_count": 270,
          "metadata": {},
          "output_type": "execute_result"
        }
      ],
      "source": [
        "#read data\n",
        "pptrain = pd.read_excel(pptrainpath)\n",
        "pptrain.head(5)"
      ]
    },
    {
      "cell_type": "code",
      "execution_count": 271,
      "metadata": {
        "colab": {
          "base_uri": "https://localhost:8080/",
          "height": 620
        },
        "id": "1Ln2m0U7uD-N",
        "outputId": "4a4df32e-adb2-42d0-d85c-3d81e1622a44"
      },
      "outputs": [
        {
          "data": {
            "text/html": [
              "<div>\n",
              "<style scoped>\n",
              "    .dataframe tbody tr th:only-of-type {\n",
              "        vertical-align: middle;\n",
              "    }\n",
              "\n",
              "    .dataframe tbody tr th {\n",
              "        vertical-align: top;\n",
              "    }\n",
              "\n",
              "    .dataframe thead th {\n",
              "        text-align: right;\n",
              "    }\n",
              "</style>\n",
              "<table border=\"1\" class=\"dataframe\">\n",
              "  <thead>\n",
              "    <tr style=\"text-align: right;\">\n",
              "      <th></th>\n",
              "      <th>First Name</th>\n",
              "      <th>Email ID</th>\n",
              "      <th>Quantity</th>\n",
              "      <th>Price Tier</th>\n",
              "      <th>Ticket Type</th>\n",
              "      <th>Attendee #</th>\n",
              "      <th>Group</th>\n",
              "      <th>Order Type</th>\n",
              "      <th>Currency</th>\n",
              "      <th>Total Paid</th>\n",
              "      <th>...</th>\n",
              "      <th>Attendee Status</th>\n",
              "      <th>College Name</th>\n",
              "      <th>How did you come to know about this event?</th>\n",
              "      <th>Specify in \"Others\" (how did you come to know about this event)</th>\n",
              "      <th>Designation</th>\n",
              "      <th>Year of Graduation</th>\n",
              "      <th>CGPA</th>\n",
              "      <th>Speaking Skills</th>\n",
              "      <th>ML Knowledge</th>\n",
              "      <th>Placement Status</th>\n",
              "    </tr>\n",
              "  </thead>\n",
              "  <tbody>\n",
              "    <tr>\n",
              "      <th>0</th>\n",
              "      <td>Sahil</td>\n",
              "      <td>sahil@xyz.com</td>\n",
              "      <td>1</td>\n",
              "      <td>NaN</td>\n",
              "      <td>Hello ML and DL</td>\n",
              "      <td>2.293940e+09</td>\n",
              "      <td>NaN</td>\n",
              "      <td>Free Order</td>\n",
              "      <td>USD</td>\n",
              "      <td>0</td>\n",
              "      <td>...</td>\n",
              "      <td>Attending</td>\n",
              "      <td>symbiosis institute of technology, pune</td>\n",
              "      <td>Whatsapp</td>\n",
              "      <td>NaN</td>\n",
              "      <td>Students</td>\n",
              "      <td>NaN</td>\n",
              "      <td>7.8</td>\n",
              "      <td>3</td>\n",
              "      <td>3</td>\n",
              "      <td>NaN</td>\n",
              "    </tr>\n",
              "    <tr>\n",
              "      <th>1</th>\n",
              "      <td>Amrita</td>\n",
              "      <td>amrita@xyz.com</td>\n",
              "      <td>1</td>\n",
              "      <td>NaN</td>\n",
              "      <td>Hello ML and DL</td>\n",
              "      <td>2.293941e+09</td>\n",
              "      <td>NaN</td>\n",
              "      <td>Free Order</td>\n",
              "      <td>USD</td>\n",
              "      <td>0</td>\n",
              "      <td>...</td>\n",
              "      <td>Attending</td>\n",
              "      <td>mit academy of engineering ,alandi</td>\n",
              "      <td>Whatsapp</td>\n",
              "      <td>NaN</td>\n",
              "      <td>Students</td>\n",
              "      <td>NaN</td>\n",
              "      <td>9.1</td>\n",
              "      <td>3</td>\n",
              "      <td>3</td>\n",
              "      <td>NaN</td>\n",
              "    </tr>\n",
              "    <tr>\n",
              "      <th>2</th>\n",
              "      <td>Mamta</td>\n",
              "      <td>mamta@xyz.com</td>\n",
              "      <td>1</td>\n",
              "      <td>NaN</td>\n",
              "      <td>Hello ML and DL</td>\n",
              "      <td>2.293941e+09</td>\n",
              "      <td>NaN</td>\n",
              "      <td>Free Order</td>\n",
              "      <td>USD</td>\n",
              "      <td>0</td>\n",
              "      <td>...</td>\n",
              "      <td>Attending</td>\n",
              "      <td>a. c. patil college of engineering</td>\n",
              "      <td>Whatsapp</td>\n",
              "      <td>NaN</td>\n",
              "      <td>Students</td>\n",
              "      <td>NaN</td>\n",
              "      <td>6.9</td>\n",
              "      <td>2</td>\n",
              "      <td>2</td>\n",
              "      <td>NaN</td>\n",
              "    </tr>\n",
              "    <tr>\n",
              "      <th>3</th>\n",
              "      <td>Bhagyashri</td>\n",
              "      <td>bhagyashri@xyz.com</td>\n",
              "      <td>1</td>\n",
              "      <td>NaN</td>\n",
              "      <td>Hello ML and DL</td>\n",
              "      <td>2.293946e+09</td>\n",
              "      <td>NaN</td>\n",
              "      <td>Free Order</td>\n",
              "      <td>USD</td>\n",
              "      <td>0</td>\n",
              "      <td>...</td>\n",
              "      <td>Attending</td>\n",
              "      <td>wilson college</td>\n",
              "      <td>Others</td>\n",
              "      <td>NaN</td>\n",
              "      <td>Students</td>\n",
              "      <td>NaN</td>\n",
              "      <td>8.4</td>\n",
              "      <td>4</td>\n",
              "      <td>4</td>\n",
              "      <td>NaN</td>\n",
              "    </tr>\n",
              "    <tr>\n",
              "      <th>4</th>\n",
              "      <td>Divyanshu</td>\n",
              "      <td>divyanshu@xyz.com</td>\n",
              "      <td>1</td>\n",
              "      <td>NaN</td>\n",
              "      <td>Hello ML and DL</td>\n",
              "      <td>2.293956e+09</td>\n",
              "      <td>NaN</td>\n",
              "      <td>Free Order</td>\n",
              "      <td>USD</td>\n",
              "      <td>0</td>\n",
              "      <td>...</td>\n",
              "      <td>Attending</td>\n",
              "      <td>ld college of engineering, ahmedabad, gujarat</td>\n",
              "      <td>Whatsapp</td>\n",
              "      <td>NaN</td>\n",
              "      <td>Students</td>\n",
              "      <td>NaN</td>\n",
              "      <td>6.7</td>\n",
              "      <td>5</td>\n",
              "      <td>5</td>\n",
              "      <td>NaN</td>\n",
              "    </tr>\n",
              "  </tbody>\n",
              "</table>\n",
              "<p>5 rows × 23 columns</p>\n",
              "</div>"
            ],
            "text/plain": [
              "   First Name            Email ID  Quantity  Price Tier      Ticket Type  \\\n",
              "0      Sahil        sahil@xyz.com         1         NaN  Hello ML and DL   \n",
              "1     Amrita       amrita@xyz.com         1         NaN  Hello ML and DL   \n",
              "2       Mamta       mamta@xyz.com         1         NaN  Hello ML and DL   \n",
              "3  Bhagyashri  bhagyashri@xyz.com         1         NaN  Hello ML and DL   \n",
              "4   Divyanshu   divyanshu@xyz.com         1         NaN  Hello ML and DL   \n",
              "\n",
              "     Attendee #  Group  Order Type Currency  Total Paid  ...  Attendee Status  \\\n",
              "0  2.293940e+09    NaN  Free Order      USD           0  ...        Attending   \n",
              "1  2.293941e+09    NaN  Free Order      USD           0  ...        Attending   \n",
              "2  2.293941e+09    NaN  Free Order      USD           0  ...        Attending   \n",
              "3  2.293946e+09    NaN  Free Order      USD           0  ...        Attending   \n",
              "4  2.293956e+09    NaN  Free Order      USD           0  ...        Attending   \n",
              "\n",
              "                                     College Name  \\\n",
              "0         symbiosis institute of technology, pune   \n",
              "1              mit academy of engineering ,alandi   \n",
              "2              a. c. patil college of engineering   \n",
              "3                                 wilson college    \n",
              "4  ld college of engineering, ahmedabad, gujarat    \n",
              "\n",
              "   How did you come to know about this event?  \\\n",
              "0                                    Whatsapp   \n",
              "1                                    Whatsapp   \n",
              "2                                    Whatsapp   \n",
              "3                                      Others   \n",
              "4                                    Whatsapp   \n",
              "\n",
              "  Specify in \"Others\" (how did you come to know about this event) Designation  \\\n",
              "0                                                NaN                 Students   \n",
              "1                                                NaN                 Students   \n",
              "2                                                NaN                 Students   \n",
              "3                                                NaN                 Students   \n",
              "4                                                NaN                 Students   \n",
              "\n",
              "  Year of Graduation CGPA Speaking Skills ML Knowledge  Placement Status  \n",
              "0                NaN  7.8               3            3               NaN  \n",
              "1                NaN  9.1               3            3               NaN  \n",
              "2                NaN  6.9               2            2               NaN  \n",
              "3                NaN  8.4               4            4               NaN  \n",
              "4                NaN  6.7               5            5               NaN  \n",
              "\n",
              "[5 rows x 23 columns]"
            ]
          },
          "execution_count": 271,
          "metadata": {},
          "output_type": "execute_result"
        }
      ],
      "source": [
        "pptest = pd.read_excel(pptestpath)\n",
        "pptest1 = pd.read_excel(pptestpath)\n",
        "pptest1.head(5)"
      ]
    },
    {
      "cell_type": "code",
      "execution_count": 272,
      "metadata": {
        "id": "T7P-tebLuL1v"
      },
      "outputs": [],
      "source": [
        "#drop empty columns\n",
        "pptrain = pptrain.drop(['Price Tier', 'Group'], axis=1)\n",
        "pptest1 = pptest1.drop(['Price Tier', 'Group'], axis=1)"
      ]
    },
    {
      "cell_type": "code",
      "execution_count": 273,
      "metadata": {
        "id": "iznO0WXejpqt"
      },
      "outputs": [],
      "source": [
        "#drop missing target variable rows\n",
        "pptrain = pptrain.dropna(subset='Placement Status')"
      ]
    },
    {
      "cell_type": "code",
      "execution_count": 274,
      "metadata": {
        "colab": {
          "base_uri": "https://localhost:8080/"
        },
        "id": "-0dsEzWyuT5W",
        "outputId": "22b16384-c6ad-443c-d1b5-561819678678"
      },
      "outputs": [
        {
          "name": "stdout",
          "output_type": "stream",
          "text": [
            "<class 'pandas.core.frame.DataFrame'>\n",
            "Int64Index: 1098 entries, 0 to 1097\n",
            "Data columns (total 21 columns):\n",
            " #   Column                                                           Non-Null Count  Dtype  \n",
            "---  ------                                                           --------------  -----  \n",
            " 0   First Name                                                       1098 non-null   object \n",
            " 1   Email ID                                                         1098 non-null   object \n",
            " 2   Quantity                                                         1098 non-null   int64  \n",
            " 3   Ticket Type                                                      1098 non-null   object \n",
            " 4   Attendee #                                                       696 non-null    float64\n",
            " 5   Order Type                                                       1098 non-null   object \n",
            " 6   Currency                                                         696 non-null    object \n",
            " 7   Total Paid                                                       1098 non-null   int64  \n",
            " 8   Fees Paid                                                        696 non-null    float64\n",
            " 9   Eventbrite Fees                                                  1098 non-null   int64  \n",
            " 10  Eventbrite Payment Processing                                    1098 non-null   int64  \n",
            " 11  Attendee Status                                                  1098 non-null   object \n",
            " 12  College Name                                                     1084 non-null   object \n",
            " 13  How did you come to know about this event?                       1094 non-null   object \n",
            " 14  Specify in \"Others\" (how did you come to know about this event)  62 non-null     object \n",
            " 15  Designation                                                      1098 non-null   object \n",
            " 16  Year of Graduation                                               0 non-null      object \n",
            " 17  CGPA                                                             1098 non-null   float64\n",
            " 18  Speaking Skills                                                  1098 non-null   int64  \n",
            " 19  ML Knowledge                                                     1098 non-null   int64  \n",
            " 20  Placement Status                                                 1098 non-null   object \n",
            "dtypes: float64(3), int64(6), object(12)\n",
            "memory usage: 188.7+ KB\n"
          ]
        }
      ],
      "source": [
        "pptrain.info()"
      ]
    },
    {
      "cell_type": "code",
      "execution_count": 275,
      "metadata": {
        "colab": {
          "base_uri": "https://localhost:8080/"
        },
        "id": "2bO7urUluYOj",
        "outputId": "bdc733df-5a85-4fd5-f203-cbf97023d08e"
      },
      "outputs": [
        {
          "name": "stdout",
          "output_type": "stream",
          "text": [
            "<class 'pandas.core.frame.DataFrame'>\n",
            "RangeIndex: 3796 entries, 0 to 3795\n",
            "Data columns (total 21 columns):\n",
            " #   Column                                                           Non-Null Count  Dtype  \n",
            "---  ------                                                           --------------  -----  \n",
            " 0   First Name                                                       3796 non-null   object \n",
            " 1   Email ID                                                         3796 non-null   object \n",
            " 2   Quantity                                                         3796 non-null   int64  \n",
            " 3   Ticket Type                                                      3796 non-null   object \n",
            " 4   Attendee #                                                       3794 non-null   float64\n",
            " 5   Order Type                                                       3796 non-null   object \n",
            " 6   Currency                                                         3794 non-null   object \n",
            " 7   Total Paid                                                       3796 non-null   int64  \n",
            " 8   Fees Paid                                                        3794 non-null   float64\n",
            " 9   Eventbrite Fees                                                  3796 non-null   int64  \n",
            " 10  Eventbrite Payment Processing                                    3796 non-null   int64  \n",
            " 11  Attendee Status                                                  3796 non-null   object \n",
            " 12  College Name                                                     3795 non-null   object \n",
            " 13  How did you come to know about this event?                       1584 non-null   object \n",
            " 14  Specify in \"Others\" (how did you come to know about this event)  27 non-null     object \n",
            " 15  Designation                                                      3796 non-null   object \n",
            " 16  Year of Graduation                                               1032 non-null   object \n",
            " 17  CGPA                                                             3796 non-null   float64\n",
            " 18  Speaking Skills                                                  3796 non-null   int64  \n",
            " 19  ML Knowledge                                                     3796 non-null   int64  \n",
            " 20  Placement Status                                                 0 non-null      float64\n",
            "dtypes: float64(4), int64(6), object(11)\n",
            "memory usage: 622.9+ KB\n"
          ]
        }
      ],
      "source": [
        "pptest1.info()"
      ]
    },
    {
      "cell_type": "code",
      "execution_count": 276,
      "metadata": {
        "colab": {
          "base_uri": "https://localhost:8080/",
          "height": 654
        },
        "id": "pi-JuJc5kjDQ",
        "outputId": "b96eb697-bd6b-40d7-d4b0-70b8a24becb1"
      },
      "outputs": [
        {
          "data": {
            "text/html": [
              "<div>\n",
              "<style scoped>\n",
              "    .dataframe tbody tr th:only-of-type {\n",
              "        vertical-align: middle;\n",
              "    }\n",
              "\n",
              "    .dataframe tbody tr th {\n",
              "        vertical-align: top;\n",
              "    }\n",
              "\n",
              "    .dataframe thead th {\n",
              "        text-align: right;\n",
              "    }\n",
              "</style>\n",
              "<table border=\"1\" class=\"dataframe\">\n",
              "  <thead>\n",
              "    <tr style=\"text-align: right;\">\n",
              "      <th></th>\n",
              "      <th>First Name</th>\n",
              "      <th>Email ID</th>\n",
              "      <th>Quantity</th>\n",
              "      <th>Ticket Type</th>\n",
              "      <th>Attendee #</th>\n",
              "      <th>Order Type</th>\n",
              "      <th>Currency</th>\n",
              "      <th>Total Paid</th>\n",
              "      <th>Fees Paid</th>\n",
              "      <th>Eventbrite Fees</th>\n",
              "      <th>...</th>\n",
              "      <th>Attendee Status</th>\n",
              "      <th>College Name</th>\n",
              "      <th>How did you come to know about this event?</th>\n",
              "      <th>Specify in \"Others\" (how did you come to know about this event)</th>\n",
              "      <th>Designation</th>\n",
              "      <th>Year of Graduation</th>\n",
              "      <th>CGPA</th>\n",
              "      <th>Speaking Skills</th>\n",
              "      <th>ML Knowledge</th>\n",
              "      <th>Placement Status</th>\n",
              "    </tr>\n",
              "  </thead>\n",
              "  <tbody>\n",
              "    <tr>\n",
              "      <th>0</th>\n",
              "      <td>ANIKET</td>\n",
              "      <td>aniket@xyz.com</td>\n",
              "      <td>1</td>\n",
              "      <td>Art of Resume Building</td>\n",
              "      <td>2.213855e+09</td>\n",
              "      <td>Free Order</td>\n",
              "      <td>USD</td>\n",
              "      <td>0</td>\n",
              "      <td>0.0</td>\n",
              "      <td>0</td>\n",
              "      <td>...</td>\n",
              "      <td>Attending</td>\n",
              "      <td>D Y PATIL INSTITUTE OF MCA AND MANAGEMENT AKUR...</td>\n",
              "      <td>Email</td>\n",
              "      <td>NaN</td>\n",
              "      <td>Students</td>\n",
              "      <td>NaN</td>\n",
              "      <td>6.7</td>\n",
              "      <td>2</td>\n",
              "      <td>5</td>\n",
              "      <td>1</td>\n",
              "    </tr>\n",
              "    <tr>\n",
              "      <th>1</th>\n",
              "      <td>Dhanshree</td>\n",
              "      <td>dhanshree@xyz.com</td>\n",
              "      <td>1</td>\n",
              "      <td>Art of Resume Building</td>\n",
              "      <td>2.213859e+09</td>\n",
              "      <td>Free Order</td>\n",
              "      <td>USD</td>\n",
              "      <td>0</td>\n",
              "      <td>0.0</td>\n",
              "      <td>0</td>\n",
              "      <td>...</td>\n",
              "      <td>Attending</td>\n",
              "      <td>AP SHAH INSTITUTE OF TECHNOLOGY</td>\n",
              "      <td>Others</td>\n",
              "      <td>College</td>\n",
              "      <td>Students</td>\n",
              "      <td>NaN</td>\n",
              "      <td>8.2</td>\n",
              "      <td>3</td>\n",
              "      <td>2</td>\n",
              "      <td>0</td>\n",
              "    </tr>\n",
              "    <tr>\n",
              "      <th>2</th>\n",
              "      <td>Dhiraj</td>\n",
              "      <td>dhiraj@xyz.com</td>\n",
              "      <td>1</td>\n",
              "      <td>Art of Resume Building</td>\n",
              "      <td>2.213862e+09</td>\n",
              "      <td>Free Order</td>\n",
              "      <td>USD</td>\n",
              "      <td>0</td>\n",
              "      <td>0.0</td>\n",
              "      <td>0</td>\n",
              "      <td>...</td>\n",
              "      <td>Attending</td>\n",
              "      <td>Don Bosco College of Engineering Fatorda Goa</td>\n",
              "      <td>Email</td>\n",
              "      <td>NaN</td>\n",
              "      <td>Students</td>\n",
              "      <td>NaN</td>\n",
              "      <td>6.5</td>\n",
              "      <td>4</td>\n",
              "      <td>3</td>\n",
              "      <td>0</td>\n",
              "    </tr>\n",
              "    <tr>\n",
              "      <th>3</th>\n",
              "      <td>Pooja</td>\n",
              "      <td>pooja@xyz.com</td>\n",
              "      <td>1</td>\n",
              "      <td>Art of Resume Building</td>\n",
              "      <td>2.213988e+09</td>\n",
              "      <td>Free Order</td>\n",
              "      <td>USD</td>\n",
              "      <td>0</td>\n",
              "      <td>0.0</td>\n",
              "      <td>0</td>\n",
              "      <td>...</td>\n",
              "      <td>Attending</td>\n",
              "      <td>Pillai College of Engineering New Panvel</td>\n",
              "      <td>Email</td>\n",
              "      <td>NaN</td>\n",
              "      <td>Students</td>\n",
              "      <td>NaN</td>\n",
              "      <td>8.7</td>\n",
              "      <td>2</td>\n",
              "      <td>5</td>\n",
              "      <td>0</td>\n",
              "    </tr>\n",
              "    <tr>\n",
              "      <th>4</th>\n",
              "      <td>Aayush</td>\n",
              "      <td>aayush@xyz.com</td>\n",
              "      <td>1</td>\n",
              "      <td>Art of Resume Building</td>\n",
              "      <td>2.214567e+09</td>\n",
              "      <td>Free Order</td>\n",
              "      <td>USD</td>\n",
              "      <td>0</td>\n",
              "      <td>0.0</td>\n",
              "      <td>0</td>\n",
              "      <td>...</td>\n",
              "      <td>Attending</td>\n",
              "      <td>St Xavier's College</td>\n",
              "      <td>Instagram | LinkedIn | Cloud Counselage Website</td>\n",
              "      <td>NaN</td>\n",
              "      <td>Students</td>\n",
              "      <td>NaN</td>\n",
              "      <td>9.1</td>\n",
              "      <td>3</td>\n",
              "      <td>5</td>\n",
              "      <td>1</td>\n",
              "    </tr>\n",
              "  </tbody>\n",
              "</table>\n",
              "<p>5 rows × 21 columns</p>\n",
              "</div>"
            ],
            "text/plain": [
              "  First Name           Email ID  Quantity             Ticket Type  \\\n",
              "0     ANIKET     aniket@xyz.com         1  Art of Resume Building   \n",
              "1  Dhanshree  dhanshree@xyz.com         1  Art of Resume Building   \n",
              "2     Dhiraj     dhiraj@xyz.com         1  Art of Resume Building   \n",
              "3      Pooja      pooja@xyz.com         1  Art of Resume Building   \n",
              "4     Aayush     aayush@xyz.com         1  Art of Resume Building   \n",
              "\n",
              "     Attendee #  Order Type Currency  Total Paid  Fees Paid  Eventbrite Fees  \\\n",
              "0  2.213855e+09  Free Order      USD           0        0.0                0   \n",
              "1  2.213859e+09  Free Order      USD           0        0.0                0   \n",
              "2  2.213862e+09  Free Order      USD           0        0.0                0   \n",
              "3  2.213988e+09  Free Order      USD           0        0.0                0   \n",
              "4  2.214567e+09  Free Order      USD           0        0.0                0   \n",
              "\n",
              "   ...  Attendee Status                                       College Name  \\\n",
              "0  ...        Attending  D Y PATIL INSTITUTE OF MCA AND MANAGEMENT AKUR...   \n",
              "1  ...        Attending                   AP SHAH INSTITUTE OF TECHNOLOGY    \n",
              "2  ...        Attending       Don Bosco College of Engineering Fatorda Goa   \n",
              "3  ...        Attending           Pillai College of Engineering New Panvel   \n",
              "4  ...        Attending                               St Xavier's College    \n",
              "\n",
              "        How did you come to know about this event?  \\\n",
              "0                                            Email   \n",
              "1                                           Others   \n",
              "2                                            Email   \n",
              "3                                            Email   \n",
              "4  Instagram | LinkedIn | Cloud Counselage Website   \n",
              "\n",
              "  Specify in \"Others\" (how did you come to know about this event) Designation  \\\n",
              "0                                                NaN                 Students   \n",
              "1                                            College                 Students   \n",
              "2                                                NaN                 Students   \n",
              "3                                                NaN                 Students   \n",
              "4                                                NaN                 Students   \n",
              "\n",
              "  Year of Graduation CGPA  Speaking Skills  ML Knowledge  Placement Status  \n",
              "0                NaN  6.7                2             5                 1  \n",
              "1                NaN  8.2                3             2                 0  \n",
              "2                NaN  6.5                4             3                 0  \n",
              "3                NaN  8.7                2             5                 0  \n",
              "4                NaN  9.1                3             5                 1  \n",
              "\n",
              "[5 rows x 21 columns]"
            ]
          },
          "execution_count": 276,
          "metadata": {},
          "output_type": "execute_result"
        }
      ],
      "source": [
        "#convert categorical values into numerical values\n",
        "pptrain['Placement Status']=LabelEncoder().fit_transform(pptrain['Placement Status'])\n",
        "pptrain.head()"
      ]
    },
    {
      "cell_type": "code",
      "execution_count": 277,
      "metadata": {
        "colab": {
          "base_uri": "https://localhost:8080/"
        },
        "id": "mwhRoLRJMNj2",
        "outputId": "b397cf68-168e-44b1-d24f-793d2afd95d9"
      },
      "outputs": [
        {
          "data": {
            "text/plain": [
              "0    732\n",
              "1    366\n",
              "Name: Placement Status, dtype: int64"
            ]
          },
          "execution_count": 277,
          "metadata": {},
          "output_type": "execute_result"
        }
      ],
      "source": [
        "pptrain['Placement Status'].value_counts()"
      ]
    },
    {
      "cell_type": "code",
      "execution_count": 278,
      "metadata": {
        "id": "lFbBQvI4BJIZ"
      },
      "outputs": [],
      "source": [
        "#drop unnecessary columns\n",
        "pptrain = pptrain.drop(['First Name', 'Email ID', 'Attendee #', 'College Name', 'How did you come to know about this event?', 'Specify in \"Others\" (how did you come to know about this event)', 'Year of Graduation'], axis=1)\n",
        "pptest1 = pptest1.drop(['First Name', 'Email ID', 'Attendee #', 'College Name', 'How did you come to know about this event?', 'Specify in \"Others\" (how did you come to know about this event)', 'Year of Graduation'], axis=1)"
      ]
    },
    {
      "cell_type": "code",
      "execution_count": 279,
      "metadata": {
        "colab": {
          "base_uri": "https://localhost:8080/"
        },
        "id": "hEGCALiRpe2p",
        "outputId": "f3d2288c-18a1-461d-99ac-43ae4a54610d"
      },
      "outputs": [
        {
          "name": "stdout",
          "output_type": "stream",
          "text": [
            "<class 'pandas.core.frame.DataFrame'>\n",
            "Int64Index: 1098 entries, 0 to 1097\n",
            "Data columns (total 14 columns):\n",
            " #   Column                         Non-Null Count  Dtype  \n",
            "---  ------                         --------------  -----  \n",
            " 0   Quantity                       1098 non-null   int64  \n",
            " 1   Ticket Type                    1098 non-null   object \n",
            " 2   Order Type                     1098 non-null   object \n",
            " 3   Currency                       696 non-null    object \n",
            " 4   Total Paid                     1098 non-null   int64  \n",
            " 5   Fees Paid                      696 non-null    float64\n",
            " 6   Eventbrite Fees                1098 non-null   int64  \n",
            " 7   Eventbrite Payment Processing  1098 non-null   int64  \n",
            " 8   Attendee Status                1098 non-null   object \n",
            " 9   Designation                    1098 non-null   object \n",
            " 10  CGPA                           1098 non-null   float64\n",
            " 11  Speaking Skills                1098 non-null   int64  \n",
            " 12  ML Knowledge                   1098 non-null   int64  \n",
            " 13  Placement Status               1098 non-null   int32  \n",
            "dtypes: float64(2), int32(1), int64(6), object(5)\n",
            "memory usage: 124.4+ KB\n"
          ]
        }
      ],
      "source": [
        "pptrain.info()"
      ]
    },
    {
      "cell_type": "code",
      "execution_count": 280,
      "metadata": {
        "colab": {
          "base_uri": "https://localhost:8080/"
        },
        "id": "daUVPwoDr3Av",
        "outputId": "2d5e94b5-9cd5-4ad5-a9a1-dc6122dc53ac"
      },
      "outputs": [
        {
          "data": {
            "text/plain": [
              "USD    1098\n",
              "Name: Currency, dtype: int64"
            ]
          },
          "execution_count": 280,
          "metadata": {},
          "output_type": "execute_result"
        }
      ],
      "source": [
        "#handle missing values\n",
        "pptrain[\"Currency\"].fillna(\"USD\", inplace = True)\n",
        "pptrain['Currency'].value_counts()"
      ]
    },
    {
      "cell_type": "code",
      "execution_count": 281,
      "metadata": {
        "colab": {
          "base_uri": "https://localhost:8080/"
        },
        "id": "O-zhDOY9tBet",
        "outputId": "6b8274bc-1e2c-4309-f005-a77e6c0c0142"
      },
      "outputs": [
        {
          "data": {
            "text/plain": [
              "0.0    1098\n",
              "Name: Fees Paid, dtype: int64"
            ]
          },
          "execution_count": 281,
          "metadata": {},
          "output_type": "execute_result"
        }
      ],
      "source": [
        "#handle missing values\n",
        "pptrain[\"Fees Paid\"].fillna(0, inplace = True)\n",
        "pptrain['Fees Paid'].value_counts()"
      ]
    },
    {
      "cell_type": "code",
      "execution_count": 282,
      "metadata": {
        "colab": {
          "base_uri": "https://localhost:8080/"
        },
        "id": "N4rU_zTotLSf",
        "outputId": "3a61623a-18ce-49b6-f582-f0aba5c8ef47"
      },
      "outputs": [
        {
          "name": "stdout",
          "output_type": "stream",
          "text": [
            "<class 'pandas.core.frame.DataFrame'>\n",
            "Int64Index: 1098 entries, 0 to 1097\n",
            "Data columns (total 14 columns):\n",
            " #   Column                         Non-Null Count  Dtype  \n",
            "---  ------                         --------------  -----  \n",
            " 0   Quantity                       1098 non-null   int64  \n",
            " 1   Ticket Type                    1098 non-null   object \n",
            " 2   Order Type                     1098 non-null   object \n",
            " 3   Currency                       1098 non-null   object \n",
            " 4   Total Paid                     1098 non-null   int64  \n",
            " 5   Fees Paid                      1098 non-null   float64\n",
            " 6   Eventbrite Fees                1098 non-null   int64  \n",
            " 7   Eventbrite Payment Processing  1098 non-null   int64  \n",
            " 8   Attendee Status                1098 non-null   object \n",
            " 9   Designation                    1098 non-null   object \n",
            " 10  CGPA                           1098 non-null   float64\n",
            " 11  Speaking Skills                1098 non-null   int64  \n",
            " 12  ML Knowledge                   1098 non-null   int64  \n",
            " 13  Placement Status               1098 non-null   int32  \n",
            "dtypes: float64(2), int32(1), int64(6), object(5)\n",
            "memory usage: 124.4+ KB\n"
          ]
        }
      ],
      "source": [
        "pptrain.info()"
      ]
    },
    {
      "cell_type": "code",
      "execution_count": 283,
      "metadata": {
        "colab": {
          "base_uri": "https://localhost:8080/"
        },
        "id": "IHsXNc3ErUuR",
        "outputId": "8557d140-222d-47b0-a384-b212867edf7f"
      },
      "outputs": [
        {
          "name": "stdout",
          "output_type": "stream",
          "text": [
            "0    478\n",
            "2    398\n",
            "1    125\n",
            "3     97\n",
            "Name: Ticket Type, dtype: int64\n",
            "0    1098\n",
            "Name: Order Type, dtype: int64\n",
            "0    1098\n",
            "Name: Currency, dtype: int64\n",
            "0    1088\n",
            "1      10\n",
            "Name: Attendee Status, dtype: int64\n",
            "0    1098\n",
            "Name: Designation, dtype: int64\n"
          ]
        }
      ],
      "source": [
        "#convert categorical columns into numerical ones\n",
        "pptrain['Ticket Type']=LabelEncoder().fit_transform(pptrain['Ticket Type'])\n",
        "print(pptrain['Ticket Type'].value_counts())\n",
        "pptrain['Order Type']=LabelEncoder().fit_transform(pptrain['Order Type'])\n",
        "print(pptrain['Order Type'].value_counts())\n",
        "pptrain['Currency']=LabelEncoder().fit_transform(pptrain['Currency'])\n",
        "print(pptrain['Currency'].value_counts())\n",
        "pptrain['Attendee Status']=LabelEncoder().fit_transform(pptrain['Attendee Status'])\n",
        "print(pptrain['Attendee Status'].value_counts())\n",
        "pptrain['Designation']=LabelEncoder().fit_transform(pptrain['Designation'])\n",
        "print(pptrain['Designation'].value_counts())"
      ]
    },
    {
      "cell_type": "code",
      "execution_count": 284,
      "metadata": {
        "colab": {
          "base_uri": "https://localhost:8080/",
          "height": 223
        },
        "id": "ZQMrazMmvCd_",
        "outputId": "b81cfca1-0b3d-4683-bd50-91bf06af5776"
      },
      "outputs": [
        {
          "data": {
            "text/html": [
              "<div>\n",
              "<style scoped>\n",
              "    .dataframe tbody tr th:only-of-type {\n",
              "        vertical-align: middle;\n",
              "    }\n",
              "\n",
              "    .dataframe tbody tr th {\n",
              "        vertical-align: top;\n",
              "    }\n",
              "\n",
              "    .dataframe thead th {\n",
              "        text-align: right;\n",
              "    }\n",
              "</style>\n",
              "<table border=\"1\" class=\"dataframe\">\n",
              "  <thead>\n",
              "    <tr style=\"text-align: right;\">\n",
              "      <th></th>\n",
              "      <th>Quantity</th>\n",
              "      <th>Ticket Type</th>\n",
              "      <th>Order Type</th>\n",
              "      <th>Currency</th>\n",
              "      <th>Total Paid</th>\n",
              "      <th>Fees Paid</th>\n",
              "      <th>Eventbrite Fees</th>\n",
              "      <th>Eventbrite Payment Processing</th>\n",
              "      <th>Attendee Status</th>\n",
              "      <th>Designation</th>\n",
              "      <th>CGPA</th>\n",
              "      <th>Speaking Skills</th>\n",
              "      <th>ML Knowledge</th>\n",
              "      <th>Placement Status</th>\n",
              "    </tr>\n",
              "  </thead>\n",
              "  <tbody>\n",
              "    <tr>\n",
              "      <th>0</th>\n",
              "      <td>1</td>\n",
              "      <td>0</td>\n",
              "      <td>0</td>\n",
              "      <td>0</td>\n",
              "      <td>0</td>\n",
              "      <td>0.0</td>\n",
              "      <td>0</td>\n",
              "      <td>0</td>\n",
              "      <td>0</td>\n",
              "      <td>0</td>\n",
              "      <td>6.7</td>\n",
              "      <td>2</td>\n",
              "      <td>5</td>\n",
              "      <td>1</td>\n",
              "    </tr>\n",
              "    <tr>\n",
              "      <th>1</th>\n",
              "      <td>1</td>\n",
              "      <td>0</td>\n",
              "      <td>0</td>\n",
              "      <td>0</td>\n",
              "      <td>0</td>\n",
              "      <td>0.0</td>\n",
              "      <td>0</td>\n",
              "      <td>0</td>\n",
              "      <td>0</td>\n",
              "      <td>0</td>\n",
              "      <td>8.2</td>\n",
              "      <td>3</td>\n",
              "      <td>2</td>\n",
              "      <td>0</td>\n",
              "    </tr>\n",
              "    <tr>\n",
              "      <th>2</th>\n",
              "      <td>1</td>\n",
              "      <td>0</td>\n",
              "      <td>0</td>\n",
              "      <td>0</td>\n",
              "      <td>0</td>\n",
              "      <td>0.0</td>\n",
              "      <td>0</td>\n",
              "      <td>0</td>\n",
              "      <td>0</td>\n",
              "      <td>0</td>\n",
              "      <td>6.5</td>\n",
              "      <td>4</td>\n",
              "      <td>3</td>\n",
              "      <td>0</td>\n",
              "    </tr>\n",
              "    <tr>\n",
              "      <th>3</th>\n",
              "      <td>1</td>\n",
              "      <td>0</td>\n",
              "      <td>0</td>\n",
              "      <td>0</td>\n",
              "      <td>0</td>\n",
              "      <td>0.0</td>\n",
              "      <td>0</td>\n",
              "      <td>0</td>\n",
              "      <td>0</td>\n",
              "      <td>0</td>\n",
              "      <td>8.7</td>\n",
              "      <td>2</td>\n",
              "      <td>5</td>\n",
              "      <td>0</td>\n",
              "    </tr>\n",
              "    <tr>\n",
              "      <th>4</th>\n",
              "      <td>1</td>\n",
              "      <td>0</td>\n",
              "      <td>0</td>\n",
              "      <td>0</td>\n",
              "      <td>0</td>\n",
              "      <td>0.0</td>\n",
              "      <td>0</td>\n",
              "      <td>0</td>\n",
              "      <td>0</td>\n",
              "      <td>0</td>\n",
              "      <td>9.1</td>\n",
              "      <td>3</td>\n",
              "      <td>5</td>\n",
              "      <td>1</td>\n",
              "    </tr>\n",
              "  </tbody>\n",
              "</table>\n",
              "</div>"
            ],
            "text/plain": [
              "   Quantity  Ticket Type  Order Type  Currency  Total Paid  Fees Paid  \\\n",
              "0         1            0           0         0           0        0.0   \n",
              "1         1            0           0         0           0        0.0   \n",
              "2         1            0           0         0           0        0.0   \n",
              "3         1            0           0         0           0        0.0   \n",
              "4         1            0           0         0           0        0.0   \n",
              "\n",
              "   Eventbrite Fees  Eventbrite Payment Processing  Attendee Status  \\\n",
              "0                0                              0                0   \n",
              "1                0                              0                0   \n",
              "2                0                              0                0   \n",
              "3                0                              0                0   \n",
              "4                0                              0                0   \n",
              "\n",
              "   Designation  CGPA  Speaking Skills  ML Knowledge  Placement Status  \n",
              "0            0   6.7                2             5                 1  \n",
              "1            0   8.2                3             2                 0  \n",
              "2            0   6.5                4             3                 0  \n",
              "3            0   8.7                2             5                 0  \n",
              "4            0   9.1                3             5                 1  "
            ]
          },
          "execution_count": 284,
          "metadata": {},
          "output_type": "execute_result"
        }
      ],
      "source": [
        "pptrain.head(5)"
      ]
    },
    {
      "cell_type": "code",
      "execution_count": 285,
      "metadata": {
        "colab": {
          "base_uri": "https://localhost:8080/"
        },
        "id": "BoGQ6NaQuDNU",
        "outputId": "30c71aa3-03a6-4bea-f3db-331df5efbf11"
      },
      "outputs": [
        {
          "name": "stdout",
          "output_type": "stream",
          "text": [
            "<class 'pandas.core.frame.DataFrame'>\n",
            "Int64Index: 1098 entries, 0 to 1097\n",
            "Data columns (total 14 columns):\n",
            " #   Column                         Non-Null Count  Dtype  \n",
            "---  ------                         --------------  -----  \n",
            " 0   Quantity                       1098 non-null   int64  \n",
            " 1   Ticket Type                    1098 non-null   int32  \n",
            " 2   Order Type                     1098 non-null   int32  \n",
            " 3   Currency                       1098 non-null   int32  \n",
            " 4   Total Paid                     1098 non-null   int64  \n",
            " 5   Fees Paid                      1098 non-null   float64\n",
            " 6   Eventbrite Fees                1098 non-null   int64  \n",
            " 7   Eventbrite Payment Processing  1098 non-null   int64  \n",
            " 8   Attendee Status                1098 non-null   int32  \n",
            " 9   Designation                    1098 non-null   int32  \n",
            " 10  CGPA                           1098 non-null   float64\n",
            " 11  Speaking Skills                1098 non-null   int64  \n",
            " 12  ML Knowledge                   1098 non-null   int64  \n",
            " 13  Placement Status               1098 non-null   int32  \n",
            "dtypes: float64(2), int32(6), int64(6)\n",
            "memory usage: 102.9 KB\n"
          ]
        }
      ],
      "source": [
        "pptrain.info()"
      ]
    },
    {
      "cell_type": "code",
      "execution_count": 286,
      "metadata": {
        "colab": {
          "base_uri": "https://localhost:8080/",
          "height": 557
        },
        "id": "CJ27nBhdx_5i",
        "outputId": "3327ae08-ecb6-475c-ad35-10609bf5d426"
      },
      "outputs": [
        {
          "data": {
            "text/html": [
              "<div>\n",
              "<style scoped>\n",
              "    .dataframe tbody tr th:only-of-type {\n",
              "        vertical-align: middle;\n",
              "    }\n",
              "\n",
              "    .dataframe tbody tr th {\n",
              "        vertical-align: top;\n",
              "    }\n",
              "\n",
              "    .dataframe thead th {\n",
              "        text-align: right;\n",
              "    }\n",
              "</style>\n",
              "<table border=\"1\" class=\"dataframe\">\n",
              "  <thead>\n",
              "    <tr style=\"text-align: right;\">\n",
              "      <th></th>\n",
              "      <th>Quantity</th>\n",
              "      <th>Ticket Type</th>\n",
              "      <th>Order Type</th>\n",
              "      <th>Currency</th>\n",
              "      <th>Total Paid</th>\n",
              "      <th>Fees Paid</th>\n",
              "      <th>Eventbrite Fees</th>\n",
              "      <th>Eventbrite Payment Processing</th>\n",
              "      <th>Attendee Status</th>\n",
              "      <th>Designation</th>\n",
              "      <th>CGPA</th>\n",
              "      <th>Speaking Skills</th>\n",
              "      <th>ML Knowledge</th>\n",
              "      <th>Placement Status</th>\n",
              "    </tr>\n",
              "  </thead>\n",
              "  <tbody>\n",
              "    <tr>\n",
              "      <th>Quantity</th>\n",
              "      <td>NaN</td>\n",
              "      <td>NaN</td>\n",
              "      <td>NaN</td>\n",
              "      <td>NaN</td>\n",
              "      <td>NaN</td>\n",
              "      <td>NaN</td>\n",
              "      <td>NaN</td>\n",
              "      <td>NaN</td>\n",
              "      <td>NaN</td>\n",
              "      <td>NaN</td>\n",
              "      <td>NaN</td>\n",
              "      <td>NaN</td>\n",
              "      <td>NaN</td>\n",
              "      <td>NaN</td>\n",
              "    </tr>\n",
              "    <tr>\n",
              "      <th>Ticket Type</th>\n",
              "      <td>NaN</td>\n",
              "      <td>1.000000</td>\n",
              "      <td>NaN</td>\n",
              "      <td>NaN</td>\n",
              "      <td>NaN</td>\n",
              "      <td>NaN</td>\n",
              "      <td>NaN</td>\n",
              "      <td>NaN</td>\n",
              "      <td>-0.027276</td>\n",
              "      <td>NaN</td>\n",
              "      <td>-0.019851</td>\n",
              "      <td>0.015387</td>\n",
              "      <td>-0.002525</td>\n",
              "      <td>-0.001809</td>\n",
              "    </tr>\n",
              "    <tr>\n",
              "      <th>Order Type</th>\n",
              "      <td>NaN</td>\n",
              "      <td>NaN</td>\n",
              "      <td>NaN</td>\n",
              "      <td>NaN</td>\n",
              "      <td>NaN</td>\n",
              "      <td>NaN</td>\n",
              "      <td>NaN</td>\n",
              "      <td>NaN</td>\n",
              "      <td>NaN</td>\n",
              "      <td>NaN</td>\n",
              "      <td>NaN</td>\n",
              "      <td>NaN</td>\n",
              "      <td>NaN</td>\n",
              "      <td>NaN</td>\n",
              "    </tr>\n",
              "    <tr>\n",
              "      <th>Currency</th>\n",
              "      <td>NaN</td>\n",
              "      <td>NaN</td>\n",
              "      <td>NaN</td>\n",
              "      <td>NaN</td>\n",
              "      <td>NaN</td>\n",
              "      <td>NaN</td>\n",
              "      <td>NaN</td>\n",
              "      <td>NaN</td>\n",
              "      <td>NaN</td>\n",
              "      <td>NaN</td>\n",
              "      <td>NaN</td>\n",
              "      <td>NaN</td>\n",
              "      <td>NaN</td>\n",
              "      <td>NaN</td>\n",
              "    </tr>\n",
              "    <tr>\n",
              "      <th>Total Paid</th>\n",
              "      <td>NaN</td>\n",
              "      <td>NaN</td>\n",
              "      <td>NaN</td>\n",
              "      <td>NaN</td>\n",
              "      <td>NaN</td>\n",
              "      <td>NaN</td>\n",
              "      <td>NaN</td>\n",
              "      <td>NaN</td>\n",
              "      <td>NaN</td>\n",
              "      <td>NaN</td>\n",
              "      <td>NaN</td>\n",
              "      <td>NaN</td>\n",
              "      <td>NaN</td>\n",
              "      <td>NaN</td>\n",
              "    </tr>\n",
              "    <tr>\n",
              "      <th>Fees Paid</th>\n",
              "      <td>NaN</td>\n",
              "      <td>NaN</td>\n",
              "      <td>NaN</td>\n",
              "      <td>NaN</td>\n",
              "      <td>NaN</td>\n",
              "      <td>NaN</td>\n",
              "      <td>NaN</td>\n",
              "      <td>NaN</td>\n",
              "      <td>NaN</td>\n",
              "      <td>NaN</td>\n",
              "      <td>NaN</td>\n",
              "      <td>NaN</td>\n",
              "      <td>NaN</td>\n",
              "      <td>NaN</td>\n",
              "    </tr>\n",
              "    <tr>\n",
              "      <th>Eventbrite Fees</th>\n",
              "      <td>NaN</td>\n",
              "      <td>NaN</td>\n",
              "      <td>NaN</td>\n",
              "      <td>NaN</td>\n",
              "      <td>NaN</td>\n",
              "      <td>NaN</td>\n",
              "      <td>NaN</td>\n",
              "      <td>NaN</td>\n",
              "      <td>NaN</td>\n",
              "      <td>NaN</td>\n",
              "      <td>NaN</td>\n",
              "      <td>NaN</td>\n",
              "      <td>NaN</td>\n",
              "      <td>NaN</td>\n",
              "    </tr>\n",
              "    <tr>\n",
              "      <th>Eventbrite Payment Processing</th>\n",
              "      <td>NaN</td>\n",
              "      <td>NaN</td>\n",
              "      <td>NaN</td>\n",
              "      <td>NaN</td>\n",
              "      <td>NaN</td>\n",
              "      <td>NaN</td>\n",
              "      <td>NaN</td>\n",
              "      <td>NaN</td>\n",
              "      <td>NaN</td>\n",
              "      <td>NaN</td>\n",
              "      <td>NaN</td>\n",
              "      <td>NaN</td>\n",
              "      <td>NaN</td>\n",
              "      <td>NaN</td>\n",
              "    </tr>\n",
              "    <tr>\n",
              "      <th>Attendee Status</th>\n",
              "      <td>NaN</td>\n",
              "      <td>-0.027276</td>\n",
              "      <td>NaN</td>\n",
              "      <td>NaN</td>\n",
              "      <td>NaN</td>\n",
              "      <td>NaN</td>\n",
              "      <td>NaN</td>\n",
              "      <td>NaN</td>\n",
              "      <td>1.000000</td>\n",
              "      <td>NaN</td>\n",
              "      <td>-0.055205</td>\n",
              "      <td>-0.029591</td>\n",
              "      <td>0.026909</td>\n",
              "      <td>-0.027116</td>\n",
              "    </tr>\n",
              "    <tr>\n",
              "      <th>Designation</th>\n",
              "      <td>NaN</td>\n",
              "      <td>NaN</td>\n",
              "      <td>NaN</td>\n",
              "      <td>NaN</td>\n",
              "      <td>NaN</td>\n",
              "      <td>NaN</td>\n",
              "      <td>NaN</td>\n",
              "      <td>NaN</td>\n",
              "      <td>NaN</td>\n",
              "      <td>NaN</td>\n",
              "      <td>NaN</td>\n",
              "      <td>NaN</td>\n",
              "      <td>NaN</td>\n",
              "      <td>NaN</td>\n",
              "    </tr>\n",
              "    <tr>\n",
              "      <th>CGPA</th>\n",
              "      <td>NaN</td>\n",
              "      <td>-0.019851</td>\n",
              "      <td>NaN</td>\n",
              "      <td>NaN</td>\n",
              "      <td>NaN</td>\n",
              "      <td>NaN</td>\n",
              "      <td>NaN</td>\n",
              "      <td>NaN</td>\n",
              "      <td>-0.055205</td>\n",
              "      <td>NaN</td>\n",
              "      <td>1.000000</td>\n",
              "      <td>0.013950</td>\n",
              "      <td>0.007696</td>\n",
              "      <td>0.001218</td>\n",
              "    </tr>\n",
              "    <tr>\n",
              "      <th>Speaking Skills</th>\n",
              "      <td>NaN</td>\n",
              "      <td>0.015387</td>\n",
              "      <td>NaN</td>\n",
              "      <td>NaN</td>\n",
              "      <td>NaN</td>\n",
              "      <td>NaN</td>\n",
              "      <td>NaN</td>\n",
              "      <td>NaN</td>\n",
              "      <td>-0.029591</td>\n",
              "      <td>NaN</td>\n",
              "      <td>0.013950</td>\n",
              "      <td>1.000000</td>\n",
              "      <td>0.868086</td>\n",
              "      <td>-0.008904</td>\n",
              "    </tr>\n",
              "    <tr>\n",
              "      <th>ML Knowledge</th>\n",
              "      <td>NaN</td>\n",
              "      <td>-0.002525</td>\n",
              "      <td>NaN</td>\n",
              "      <td>NaN</td>\n",
              "      <td>NaN</td>\n",
              "      <td>NaN</td>\n",
              "      <td>NaN</td>\n",
              "      <td>NaN</td>\n",
              "      <td>0.026909</td>\n",
              "      <td>NaN</td>\n",
              "      <td>0.007696</td>\n",
              "      <td>0.868086</td>\n",
              "      <td>1.000000</td>\n",
              "      <td>0.025761</td>\n",
              "    </tr>\n",
              "    <tr>\n",
              "      <th>Placement Status</th>\n",
              "      <td>NaN</td>\n",
              "      <td>-0.001809</td>\n",
              "      <td>NaN</td>\n",
              "      <td>NaN</td>\n",
              "      <td>NaN</td>\n",
              "      <td>NaN</td>\n",
              "      <td>NaN</td>\n",
              "      <td>NaN</td>\n",
              "      <td>-0.027116</td>\n",
              "      <td>NaN</td>\n",
              "      <td>0.001218</td>\n",
              "      <td>-0.008904</td>\n",
              "      <td>0.025761</td>\n",
              "      <td>1.000000</td>\n",
              "    </tr>\n",
              "  </tbody>\n",
              "</table>\n",
              "</div>"
            ],
            "text/plain": [
              "                               Quantity  Ticket Type  Order Type  Currency  \\\n",
              "Quantity                            NaN          NaN         NaN       NaN   \n",
              "Ticket Type                         NaN     1.000000         NaN       NaN   \n",
              "Order Type                          NaN          NaN         NaN       NaN   \n",
              "Currency                            NaN          NaN         NaN       NaN   \n",
              "Total Paid                          NaN          NaN         NaN       NaN   \n",
              "Fees Paid                           NaN          NaN         NaN       NaN   \n",
              "Eventbrite Fees                     NaN          NaN         NaN       NaN   \n",
              "Eventbrite Payment Processing       NaN          NaN         NaN       NaN   \n",
              "Attendee Status                     NaN    -0.027276         NaN       NaN   \n",
              "Designation                         NaN          NaN         NaN       NaN   \n",
              "CGPA                                NaN    -0.019851         NaN       NaN   \n",
              "Speaking Skills                     NaN     0.015387         NaN       NaN   \n",
              "ML Knowledge                        NaN    -0.002525         NaN       NaN   \n",
              "Placement Status                    NaN    -0.001809         NaN       NaN   \n",
              "\n",
              "                               Total Paid  Fees Paid  Eventbrite Fees  \\\n",
              "Quantity                              NaN        NaN              NaN   \n",
              "Ticket Type                           NaN        NaN              NaN   \n",
              "Order Type                            NaN        NaN              NaN   \n",
              "Currency                              NaN        NaN              NaN   \n",
              "Total Paid                            NaN        NaN              NaN   \n",
              "Fees Paid                             NaN        NaN              NaN   \n",
              "Eventbrite Fees                       NaN        NaN              NaN   \n",
              "Eventbrite Payment Processing         NaN        NaN              NaN   \n",
              "Attendee Status                       NaN        NaN              NaN   \n",
              "Designation                           NaN        NaN              NaN   \n",
              "CGPA                                  NaN        NaN              NaN   \n",
              "Speaking Skills                       NaN        NaN              NaN   \n",
              "ML Knowledge                          NaN        NaN              NaN   \n",
              "Placement Status                      NaN        NaN              NaN   \n",
              "\n",
              "                               Eventbrite Payment Processing  Attendee Status  \\\n",
              "Quantity                                                 NaN              NaN   \n",
              "Ticket Type                                              NaN        -0.027276   \n",
              "Order Type                                               NaN              NaN   \n",
              "Currency                                                 NaN              NaN   \n",
              "Total Paid                                               NaN              NaN   \n",
              "Fees Paid                                                NaN              NaN   \n",
              "Eventbrite Fees                                          NaN              NaN   \n",
              "Eventbrite Payment Processing                            NaN              NaN   \n",
              "Attendee Status                                          NaN         1.000000   \n",
              "Designation                                              NaN              NaN   \n",
              "CGPA                                                     NaN        -0.055205   \n",
              "Speaking Skills                                          NaN        -0.029591   \n",
              "ML Knowledge                                             NaN         0.026909   \n",
              "Placement Status                                         NaN        -0.027116   \n",
              "\n",
              "                               Designation      CGPA  Speaking Skills  \\\n",
              "Quantity                               NaN       NaN              NaN   \n",
              "Ticket Type                            NaN -0.019851         0.015387   \n",
              "Order Type                             NaN       NaN              NaN   \n",
              "Currency                               NaN       NaN              NaN   \n",
              "Total Paid                             NaN       NaN              NaN   \n",
              "Fees Paid                              NaN       NaN              NaN   \n",
              "Eventbrite Fees                        NaN       NaN              NaN   \n",
              "Eventbrite Payment Processing          NaN       NaN              NaN   \n",
              "Attendee Status                        NaN -0.055205        -0.029591   \n",
              "Designation                            NaN       NaN              NaN   \n",
              "CGPA                                   NaN  1.000000         0.013950   \n",
              "Speaking Skills                        NaN  0.013950         1.000000   \n",
              "ML Knowledge                           NaN  0.007696         0.868086   \n",
              "Placement Status                       NaN  0.001218        -0.008904   \n",
              "\n",
              "                               ML Knowledge  Placement Status  \n",
              "Quantity                                NaN               NaN  \n",
              "Ticket Type                       -0.002525         -0.001809  \n",
              "Order Type                              NaN               NaN  \n",
              "Currency                                NaN               NaN  \n",
              "Total Paid                              NaN               NaN  \n",
              "Fees Paid                               NaN               NaN  \n",
              "Eventbrite Fees                         NaN               NaN  \n",
              "Eventbrite Payment Processing           NaN               NaN  \n",
              "Attendee Status                    0.026909         -0.027116  \n",
              "Designation                             NaN               NaN  \n",
              "CGPA                               0.007696          0.001218  \n",
              "Speaking Skills                    0.868086         -0.008904  \n",
              "ML Knowledge                       1.000000          0.025761  \n",
              "Placement Status                   0.025761          1.000000  "
            ]
          },
          "execution_count": 286,
          "metadata": {},
          "output_type": "execute_result"
        }
      ],
      "source": [
        "#pairwise correlation of all the columns\n",
        "pptrain.corr()"
      ]
    },
    {
      "cell_type": "code",
      "execution_count": 287,
      "metadata": {
        "id": "ywGZcJ73vqmD"
      },
      "outputs": [],
      "source": [
        "#drop uncorrelated columns to target variable\n",
        "pptrain = pptrain.drop(['Quantity', 'Order Type', 'Currency', 'Total Paid', 'Fees Paid', 'Eventbrite Fees', 'Eventbrite Payment Processing', 'Designation'], axis=1)\n",
        "pptest1 = pptest1.drop(['Quantity', 'Order Type', 'Currency', 'Total Paid', 'Fees Paid', 'Eventbrite Fees', 'Eventbrite Payment Processing', 'Designation'], axis=1)"
      ]
    },
    {
      "cell_type": "code",
      "execution_count": 288,
      "metadata": {
        "colab": {
          "base_uri": "https://localhost:8080/"
        },
        "id": "rSAbaySI_VPP",
        "outputId": "0efa6ecd-2415-4d3e-c37d-b11d6ad93e72"
      },
      "outputs": [
        {
          "name": "stdout",
          "output_type": "stream",
          "text": [
            "<class 'pandas.core.frame.DataFrame'>\n",
            "RangeIndex: 3796 entries, 0 to 3795\n",
            "Data columns (total 6 columns):\n",
            " #   Column            Non-Null Count  Dtype  \n",
            "---  ------            --------------  -----  \n",
            " 0   Ticket Type       3796 non-null   object \n",
            " 1   Attendee Status   3796 non-null   object \n",
            " 2   CGPA              3796 non-null   float64\n",
            " 3   Speaking Skills   3796 non-null   int64  \n",
            " 4   ML Knowledge      3796 non-null   int64  \n",
            " 5   Placement Status  0 non-null      float64\n",
            "dtypes: float64(2), int64(2), object(2)\n",
            "memory usage: 178.1+ KB\n"
          ]
        }
      ],
      "source": [
        "pptest1.info()"
      ]
    },
    {
      "cell_type": "code",
      "execution_count": 289,
      "metadata": {
        "colab": {
          "base_uri": "https://localhost:8080/"
        },
        "id": "pq9mZE69-UEq",
        "outputId": "a651008d-6a92-470c-f547-7c5cf6330824"
      },
      "outputs": [
        {
          "name": "stdout",
          "output_type": "stream",
          "text": [
            "6     842\n",
            "4     797\n",
            "10    379\n",
            "9     318\n",
            "3     306\n",
            "5     205\n",
            "1     165\n",
            "2     146\n",
            "12    142\n",
            "11    121\n",
            "8     114\n",
            "7     112\n",
            "13     92\n",
            "0      57\n",
            "Name: Ticket Type, dtype: int64\n",
            "0    3794\n",
            "1       2\n",
            "Name: Attendee Status, dtype: int64\n"
          ]
        }
      ],
      "source": [
        "#convert categorical columns into numerical ones\n",
        "pptest1['Ticket Type']=LabelEncoder().fit_transform(pptest1['Ticket Type'])\n",
        "print(pptest1['Ticket Type'].value_counts())\n",
        "pptest1['Attendee Status']=LabelEncoder().fit_transform(pptest1['Attendee Status'])\n",
        "print(pptest1['Attendee Status'].value_counts())"
      ]
    },
    {
      "cell_type": "code",
      "execution_count": 290,
      "metadata": {
        "colab": {
          "base_uri": "https://localhost:8080/"
        },
        "id": "ZVvZ7YXcWoL5",
        "outputId": "cea36fd9-f183-4d8d-c13b-15d0740ef00d"
      },
      "outputs": [
        {
          "name": "stdout",
          "output_type": "stream",
          "text": [
            "<class 'pandas.core.frame.DataFrame'>\n",
            "Int64Index: 1098 entries, 0 to 1097\n",
            "Data columns (total 6 columns):\n",
            " #   Column            Non-Null Count  Dtype  \n",
            "---  ------            --------------  -----  \n",
            " 0   Ticket Type       1098 non-null   int32  \n",
            " 1   Attendee Status   1098 non-null   int32  \n",
            " 2   CGPA              1098 non-null   float64\n",
            " 3   Speaking Skills   1098 non-null   int64  \n",
            " 4   ML Knowledge      1098 non-null   int64  \n",
            " 5   Placement Status  1098 non-null   int32  \n",
            "dtypes: float64(1), int32(3), int64(2)\n",
            "memory usage: 47.2 KB\n"
          ]
        }
      ],
      "source": [
        "pptrain.info()"
      ]
    },
    {
      "cell_type": "code",
      "execution_count": 291,
      "metadata": {
        "colab": {
          "base_uri": "https://localhost:8080/"
        },
        "id": "zxu4GN0T-hNY",
        "outputId": "14596214-3cd1-498c-e1d8-97e790a6e95d"
      },
      "outputs": [
        {
          "name": "stdout",
          "output_type": "stream",
          "text": [
            "<class 'pandas.core.frame.DataFrame'>\n",
            "RangeIndex: 3796 entries, 0 to 3795\n",
            "Data columns (total 6 columns):\n",
            " #   Column            Non-Null Count  Dtype  \n",
            "---  ------            --------------  -----  \n",
            " 0   Ticket Type       3796 non-null   int32  \n",
            " 1   Attendee Status   3796 non-null   int32  \n",
            " 2   CGPA              3796 non-null   float64\n",
            " 3   Speaking Skills   3796 non-null   int64  \n",
            " 4   ML Knowledge      3796 non-null   int64  \n",
            " 5   Placement Status  0 non-null      float64\n",
            "dtypes: float64(2), int32(2), int64(2)\n",
            "memory usage: 148.4 KB\n"
          ]
        }
      ],
      "source": [
        "pptest1.info()"
      ]
    },
    {
      "cell_type": "code",
      "execution_count": 292,
      "metadata": {
        "colab": {
          "base_uri": "https://localhost:8080/",
          "height": 300
        },
        "id": "OPr_mmFpjHht",
        "outputId": "7926b252-c631-4d19-d638-fe21d7b257ba"
      },
      "outputs": [
        {
          "data": {
            "text/html": [
              "<div>\n",
              "<style scoped>\n",
              "    .dataframe tbody tr th:only-of-type {\n",
              "        vertical-align: middle;\n",
              "    }\n",
              "\n",
              "    .dataframe tbody tr th {\n",
              "        vertical-align: top;\n",
              "    }\n",
              "\n",
              "    .dataframe thead th {\n",
              "        text-align: right;\n",
              "    }\n",
              "</style>\n",
              "<table border=\"1\" class=\"dataframe\">\n",
              "  <thead>\n",
              "    <tr style=\"text-align: right;\">\n",
              "      <th></th>\n",
              "      <th>Ticket Type</th>\n",
              "      <th>Attendee Status</th>\n",
              "      <th>CGPA</th>\n",
              "      <th>Speaking Skills</th>\n",
              "      <th>ML Knowledge</th>\n",
              "      <th>Placement Status</th>\n",
              "    </tr>\n",
              "  </thead>\n",
              "  <tbody>\n",
              "    <tr>\n",
              "      <th>count</th>\n",
              "      <td>1098.000000</td>\n",
              "      <td>1098.000000</td>\n",
              "      <td>1098.000000</td>\n",
              "      <td>1098.000000</td>\n",
              "      <td>1098.000000</td>\n",
              "      <td>1098.000000</td>\n",
              "    </tr>\n",
              "    <tr>\n",
              "      <th>mean</th>\n",
              "      <td>1.103825</td>\n",
              "      <td>0.009107</td>\n",
              "      <td>8.038434</td>\n",
              "      <td>3.457195</td>\n",
              "      <td>3.477231</td>\n",
              "      <td>0.333333</td>\n",
              "    </tr>\n",
              "    <tr>\n",
              "      <th>std</th>\n",
              "      <td>1.068384</td>\n",
              "      <td>0.095041</td>\n",
              "      <td>1.004991</td>\n",
              "      <td>1.157784</td>\n",
              "      <td>1.150455</td>\n",
              "      <td>0.471619</td>\n",
              "    </tr>\n",
              "    <tr>\n",
              "      <th>min</th>\n",
              "      <td>0.000000</td>\n",
              "      <td>0.000000</td>\n",
              "      <td>6.200000</td>\n",
              "      <td>2.000000</td>\n",
              "      <td>2.000000</td>\n",
              "      <td>0.000000</td>\n",
              "    </tr>\n",
              "    <tr>\n",
              "      <th>25%</th>\n",
              "      <td>0.000000</td>\n",
              "      <td>0.000000</td>\n",
              "      <td>7.200000</td>\n",
              "      <td>2.000000</td>\n",
              "      <td>2.000000</td>\n",
              "      <td>0.000000</td>\n",
              "    </tr>\n",
              "    <tr>\n",
              "      <th>50%</th>\n",
              "      <td>1.000000</td>\n",
              "      <td>0.000000</td>\n",
              "      <td>7.900000</td>\n",
              "      <td>3.500000</td>\n",
              "      <td>4.000000</td>\n",
              "      <td>0.000000</td>\n",
              "    </tr>\n",
              "    <tr>\n",
              "      <th>75%</th>\n",
              "      <td>2.000000</td>\n",
              "      <td>0.000000</td>\n",
              "      <td>8.900000</td>\n",
              "      <td>5.000000</td>\n",
              "      <td>4.750000</td>\n",
              "      <td>1.000000</td>\n",
              "    </tr>\n",
              "    <tr>\n",
              "      <th>max</th>\n",
              "      <td>3.000000</td>\n",
              "      <td>1.000000</td>\n",
              "      <td>9.900000</td>\n",
              "      <td>5.000000</td>\n",
              "      <td>5.000000</td>\n",
              "      <td>1.000000</td>\n",
              "    </tr>\n",
              "  </tbody>\n",
              "</table>\n",
              "</div>"
            ],
            "text/plain": [
              "       Ticket Type  Attendee Status         CGPA  Speaking Skills  \\\n",
              "count  1098.000000      1098.000000  1098.000000      1098.000000   \n",
              "mean      1.103825         0.009107     8.038434         3.457195   \n",
              "std       1.068384         0.095041     1.004991         1.157784   \n",
              "min       0.000000         0.000000     6.200000         2.000000   \n",
              "25%       0.000000         0.000000     7.200000         2.000000   \n",
              "50%       1.000000         0.000000     7.900000         3.500000   \n",
              "75%       2.000000         0.000000     8.900000         5.000000   \n",
              "max       3.000000         1.000000     9.900000         5.000000   \n",
              "\n",
              "       ML Knowledge  Placement Status  \n",
              "count   1098.000000       1098.000000  \n",
              "mean       3.477231          0.333333  \n",
              "std        1.150455          0.471619  \n",
              "min        2.000000          0.000000  \n",
              "25%        2.000000          0.000000  \n",
              "50%        4.000000          0.000000  \n",
              "75%        4.750000          1.000000  \n",
              "max        5.000000          1.000000  "
            ]
          },
          "execution_count": 292,
          "metadata": {},
          "output_type": "execute_result"
        }
      ],
      "source": [
        "pptrain.describe()"
      ]
    },
    {
      "cell_type": "code",
      "execution_count": 293,
      "metadata": {
        "colab": {
          "base_uri": "https://localhost:8080/",
          "height": 237
        },
        "id": "zKuCFrybkq1G",
        "outputId": "2c61b727-b1ba-43e6-c6a7-8b46c6318f9e"
      },
      "outputs": [
        {
          "data": {
            "text/html": [
              "<div>\n",
              "<style scoped>\n",
              "    .dataframe tbody tr th:only-of-type {\n",
              "        vertical-align: middle;\n",
              "    }\n",
              "\n",
              "    .dataframe tbody tr th {\n",
              "        vertical-align: top;\n",
              "    }\n",
              "\n",
              "    .dataframe thead th {\n",
              "        text-align: right;\n",
              "    }\n",
              "</style>\n",
              "<table border=\"1\" class=\"dataframe\">\n",
              "  <thead>\n",
              "    <tr style=\"text-align: right;\">\n",
              "      <th></th>\n",
              "      <th>Ticket Type</th>\n",
              "      <th>Attendee Status</th>\n",
              "      <th>CGPA</th>\n",
              "      <th>Speaking Skills</th>\n",
              "      <th>ML Knowledge</th>\n",
              "      <th>Placement Status</th>\n",
              "    </tr>\n",
              "  </thead>\n",
              "  <tbody>\n",
              "    <tr>\n",
              "      <th>Ticket Type</th>\n",
              "      <td>1.000000</td>\n",
              "      <td>-0.027276</td>\n",
              "      <td>-0.019851</td>\n",
              "      <td>0.015387</td>\n",
              "      <td>-0.002525</td>\n",
              "      <td>-0.001809</td>\n",
              "    </tr>\n",
              "    <tr>\n",
              "      <th>Attendee Status</th>\n",
              "      <td>-0.027276</td>\n",
              "      <td>1.000000</td>\n",
              "      <td>-0.055205</td>\n",
              "      <td>-0.029591</td>\n",
              "      <td>0.026909</td>\n",
              "      <td>-0.027116</td>\n",
              "    </tr>\n",
              "    <tr>\n",
              "      <th>CGPA</th>\n",
              "      <td>-0.019851</td>\n",
              "      <td>-0.055205</td>\n",
              "      <td>1.000000</td>\n",
              "      <td>0.013950</td>\n",
              "      <td>0.007696</td>\n",
              "      <td>0.001218</td>\n",
              "    </tr>\n",
              "    <tr>\n",
              "      <th>Speaking Skills</th>\n",
              "      <td>0.015387</td>\n",
              "      <td>-0.029591</td>\n",
              "      <td>0.013950</td>\n",
              "      <td>1.000000</td>\n",
              "      <td>0.868086</td>\n",
              "      <td>-0.008904</td>\n",
              "    </tr>\n",
              "    <tr>\n",
              "      <th>ML Knowledge</th>\n",
              "      <td>-0.002525</td>\n",
              "      <td>0.026909</td>\n",
              "      <td>0.007696</td>\n",
              "      <td>0.868086</td>\n",
              "      <td>1.000000</td>\n",
              "      <td>0.025761</td>\n",
              "    </tr>\n",
              "    <tr>\n",
              "      <th>Placement Status</th>\n",
              "      <td>-0.001809</td>\n",
              "      <td>-0.027116</td>\n",
              "      <td>0.001218</td>\n",
              "      <td>-0.008904</td>\n",
              "      <td>0.025761</td>\n",
              "      <td>1.000000</td>\n",
              "    </tr>\n",
              "  </tbody>\n",
              "</table>\n",
              "</div>"
            ],
            "text/plain": [
              "                  Ticket Type  Attendee Status      CGPA  Speaking Skills  \\\n",
              "Ticket Type          1.000000        -0.027276 -0.019851         0.015387   \n",
              "Attendee Status     -0.027276         1.000000 -0.055205        -0.029591   \n",
              "CGPA                -0.019851        -0.055205  1.000000         0.013950   \n",
              "Speaking Skills      0.015387        -0.029591  0.013950         1.000000   \n",
              "ML Knowledge        -0.002525         0.026909  0.007696         0.868086   \n",
              "Placement Status    -0.001809        -0.027116  0.001218        -0.008904   \n",
              "\n",
              "                  ML Knowledge  Placement Status  \n",
              "Ticket Type          -0.002525         -0.001809  \n",
              "Attendee Status       0.026909         -0.027116  \n",
              "CGPA                  0.007696          0.001218  \n",
              "Speaking Skills       0.868086         -0.008904  \n",
              "ML Knowledge          1.000000          0.025761  \n",
              "Placement Status      0.025761          1.000000  "
            ]
          },
          "execution_count": 293,
          "metadata": {},
          "output_type": "execute_result"
        }
      ],
      "source": [
        "pptrain.corr()"
      ]
    },
    {
      "cell_type": "code",
      "execution_count": 294,
      "metadata": {
        "id": "fUzCfsu8zmzA"
      },
      "outputs": [],
      "source": [
        "#assign independent values (X) and dependent value (y) for training\n",
        "X = pptrain.drop(columns=['Placement Status'])\n",
        "y = pptrain['Placement Status']"
      ]
    },
    {
      "cell_type": "code",
      "execution_count": 295,
      "metadata": {
        "colab": {
          "base_uri": "https://localhost:8080/"
        },
        "id": "NxKQxZKF2L9O",
        "outputId": "5f55324a-59cc-4e3b-9760-4696d0a1e924"
      },
      "outputs": [
        {
          "data": {
            "text/plain": [
              "(1098, 5)"
            ]
          },
          "execution_count": 295,
          "metadata": {},
          "output_type": "execute_result"
        }
      ],
      "source": [
        "X.shape"
      ]
    },
    {
      "cell_type": "code",
      "execution_count": 296,
      "metadata": {
        "colab": {
          "base_uri": "https://localhost:8080/"
        },
        "id": "NI43M3-F6qnq",
        "outputId": "87a043e7-1d70-481d-9b58-dce137860815"
      },
      "outputs": [
        {
          "data": {
            "text/plain": [
              "(1098,)"
            ]
          },
          "execution_count": 296,
          "metadata": {},
          "output_type": "execute_result"
        }
      ],
      "source": [
        "y.shape"
      ]
    },
    {
      "cell_type": "code",
      "execution_count": 297,
      "metadata": {
        "id": "KjV6xzPb3LSb"
      },
      "outputs": [],
      "source": [
        "#train and test split\n",
        "X_train, X_test, y_train, y_test = train_test_split(X, y, test_size=0.25, random_state=16)"
      ]
    },
    {
      "cell_type": "code",
      "execution_count": 298,
      "metadata": {
        "id": "gGG1Ma5E3lTg"
      },
      "outputs": [],
      "source": [
        "#standardize the data values\n",
        "s = StandardScaler()\n",
        "X_train = s.fit_transform(X_train)\n",
        "X_test = s.transform(X_test)"
      ]
    },
    {
      "cell_type": "code",
      "execution_count": 299,
      "metadata": {
        "colab": {
          "base_uri": "https://localhost:8080/"
        },
        "id": "j4MK1SgO6eVW",
        "outputId": "53ea2338-f4af-48ea-b9a7-9d8192199379"
      },
      "outputs": [
        {
          "name": "stdout",
          "output_type": "stream",
          "text": [
            "Training data shape: (823, 5) (823,)\n",
            "Testing data shape: (275, 5) (275,)\n"
          ]
        }
      ],
      "source": [
        "print(\"Training data shape:\", X_train.shape, y_train.shape)\n",
        "print(\"Testing data shape:\", X_test.shape, y_test.shape)"
      ]
    },
    {
      "cell_type": "code",
      "execution_count": 300,
      "metadata": {
        "colab": {
          "base_uri": "https://localhost:8080/",
          "height": 74
        },
        "id": "EQTAFBFC4Ap9",
        "outputId": "687225ce-abbf-4cb1-e545-5fa5b5c96426"
      },
      "outputs": [
        {
          "data": {
            "text/html": [
              "<style>#sk-container-id-7 {color: black;background-color: white;}#sk-container-id-7 pre{padding: 0;}#sk-container-id-7 div.sk-toggleable {background-color: white;}#sk-container-id-7 label.sk-toggleable__label {cursor: pointer;display: block;width: 100%;margin-bottom: 0;padding: 0.3em;box-sizing: border-box;text-align: center;}#sk-container-id-7 label.sk-toggleable__label-arrow:before {content: \"▸\";float: left;margin-right: 0.25em;color: #696969;}#sk-container-id-7 label.sk-toggleable__label-arrow:hover:before {color: black;}#sk-container-id-7 div.sk-estimator:hover label.sk-toggleable__label-arrow:before {color: black;}#sk-container-id-7 div.sk-toggleable__content {max-height: 0;max-width: 0;overflow: hidden;text-align: left;background-color: #f0f8ff;}#sk-container-id-7 div.sk-toggleable__content pre {margin: 0.2em;color: black;border-radius: 0.25em;background-color: #f0f8ff;}#sk-container-id-7 input.sk-toggleable__control:checked~div.sk-toggleable__content {max-height: 200px;max-width: 100%;overflow: auto;}#sk-container-id-7 input.sk-toggleable__control:checked~label.sk-toggleable__label-arrow:before {content: \"▾\";}#sk-container-id-7 div.sk-estimator input.sk-toggleable__control:checked~label.sk-toggleable__label {background-color: #d4ebff;}#sk-container-id-7 div.sk-label input.sk-toggleable__control:checked~label.sk-toggleable__label {background-color: #d4ebff;}#sk-container-id-7 input.sk-hidden--visually {border: 0;clip: rect(1px 1px 1px 1px);clip: rect(1px, 1px, 1px, 1px);height: 1px;margin: -1px;overflow: hidden;padding: 0;position: absolute;width: 1px;}#sk-container-id-7 div.sk-estimator {font-family: monospace;background-color: #f0f8ff;border: 1px dotted black;border-radius: 0.25em;box-sizing: border-box;margin-bottom: 0.5em;}#sk-container-id-7 div.sk-estimator:hover {background-color: #d4ebff;}#sk-container-id-7 div.sk-parallel-item::after {content: \"\";width: 100%;border-bottom: 1px solid gray;flex-grow: 1;}#sk-container-id-7 div.sk-label:hover label.sk-toggleable__label {background-color: #d4ebff;}#sk-container-id-7 div.sk-serial::before {content: \"\";position: absolute;border-left: 1px solid gray;box-sizing: border-box;top: 0;bottom: 0;left: 50%;z-index: 0;}#sk-container-id-7 div.sk-serial {display: flex;flex-direction: column;align-items: center;background-color: white;padding-right: 0.2em;padding-left: 0.2em;position: relative;}#sk-container-id-7 div.sk-item {position: relative;z-index: 1;}#sk-container-id-7 div.sk-parallel {display: flex;align-items: stretch;justify-content: center;background-color: white;position: relative;}#sk-container-id-7 div.sk-item::before, #sk-container-id-7 div.sk-parallel-item::before {content: \"\";position: absolute;border-left: 1px solid gray;box-sizing: border-box;top: 0;bottom: 0;left: 50%;z-index: -1;}#sk-container-id-7 div.sk-parallel-item {display: flex;flex-direction: column;z-index: 1;position: relative;background-color: white;}#sk-container-id-7 div.sk-parallel-item:first-child::after {align-self: flex-end;width: 50%;}#sk-container-id-7 div.sk-parallel-item:last-child::after {align-self: flex-start;width: 50%;}#sk-container-id-7 div.sk-parallel-item:only-child::after {width: 0;}#sk-container-id-7 div.sk-dashed-wrapped {border: 1px dashed gray;margin: 0 0.4em 0.5em 0.4em;box-sizing: border-box;padding-bottom: 0.4em;background-color: white;}#sk-container-id-7 div.sk-label label {font-family: monospace;font-weight: bold;display: inline-block;line-height: 1.2em;}#sk-container-id-7 div.sk-label-container {text-align: center;}#sk-container-id-7 div.sk-container {/* jupyter's `normalize.less` sets `[hidden] { display: none; }` but bootstrap.min.css set `[hidden] { display: none !important; }` so we also need the `!important` here to be able to override the default hidden behavior on the sphinx rendered scikit-learn.org. See: https://github.com/scikit-learn/scikit-learn/issues/21755 */display: inline-block !important;position: relative;}#sk-container-id-7 div.sk-text-repr-fallback {display: none;}</style><div id=\"sk-container-id-7\" class=\"sk-top-container\"><div class=\"sk-text-repr-fallback\"><pre>LogisticRegression(random_state=0, solver=&#x27;liblinear&#x27;)</pre><b>In a Jupyter environment, please rerun this cell to show the HTML representation or trust the notebook. <br />On GitHub, the HTML representation is unable to render, please try loading this page with nbviewer.org.</b></div><div class=\"sk-container\" hidden><div class=\"sk-item\"><div class=\"sk-estimator sk-toggleable\"><input class=\"sk-toggleable__control sk-hidden--visually\" id=\"sk-estimator-id-7\" type=\"checkbox\" checked><label for=\"sk-estimator-id-7\" class=\"sk-toggleable__label sk-toggleable__label-arrow\">LogisticRegression</label><div class=\"sk-toggleable__content\"><pre>LogisticRegression(random_state=0, solver=&#x27;liblinear&#x27;)</pre></div></div></div></div></div>"
            ],
            "text/plain": [
              "LogisticRegression(random_state=0, solver='liblinear')"
            ]
          },
          "execution_count": 300,
          "metadata": {},
          "output_type": "execute_result"
        }
      ],
      "source": [
        "#Logistic Regression Model\n",
        "model = LogisticRegression(solver='liblinear', random_state=0)\n",
        "model.fit(X_train, y_train)"
      ]
    },
    {
      "cell_type": "code",
      "execution_count": 301,
      "metadata": {
        "colab": {
          "base_uri": "https://localhost:8080/"
        },
        "id": "SCOvG10b8hMG",
        "outputId": "4eb5a5ef-b1c2-41cb-ae36-9aa4c9133fc3"
      },
      "outputs": [
        {
          "data": {
            "text/plain": [
              "array([0, 1])"
            ]
          },
          "execution_count": 301,
          "metadata": {},
          "output_type": "execute_result"
        }
      ],
      "source": [
        "model.classes_"
      ]
    },
    {
      "cell_type": "code",
      "execution_count": 302,
      "metadata": {
        "id": "fYAWQTlF4-h7"
      },
      "outputs": [],
      "source": [
        "y_pred = model.predict(X_test)"
      ]
    },
    {
      "cell_type": "code",
      "execution_count": 303,
      "metadata": {
        "colab": {
          "base_uri": "https://localhost:8080/"
        },
        "id": "BLi56bRv5CnS",
        "outputId": "443df971-dc8b-4d11-85a7-0b5c96a6ef6b"
      },
      "outputs": [
        {
          "name": "stdout",
          "output_type": "stream",
          "text": [
            "Confusion Matrix: \n",
            " [[181   1]\n",
            " [ 92   1]]\n"
          ]
        }
      ],
      "source": [
        "#Confusion Matrix\n",
        "cm = confusion_matrix(y_test, y_pred)\n",
        "print (\"Confusion Matrix: \\n\", cm)"
      ]
    },
    {
      "cell_type": "code",
      "execution_count": 304,
      "metadata": {
        "colab": {
          "base_uri": "https://localhost:8080/"
        },
        "id": "EqMEoYIm5Kmb",
        "outputId": "ee7b3daf-d923-430a-c673-3267a6b9c832"
      },
      "outputs": [
        {
          "name": "stdout",
          "output_type": "stream",
          "text": [
            "Accuracy:  0.6618181818181819\n"
          ]
        }
      ],
      "source": [
        "#Accuracy score\n",
        "print (\"Accuracy: \", accuracy_score(y_test, y_pred))"
      ]
    },
    {
      "cell_type": "code",
      "execution_count": 305,
      "metadata": {
        "colab": {
          "base_uri": "https://localhost:8080/"
        },
        "id": "zX4Q6YDMA0Zz",
        "outputId": "294264cf-6778-4294-ac14-373fa94ccead"
      },
      "outputs": [
        {
          "data": {
            "text/plain": [
              "(3796, 5)"
            ]
          },
          "execution_count": 305,
          "metadata": {},
          "output_type": "execute_result"
        }
      ],
      "source": [
        "#Test set Prediction\n",
        "test_set = pptest1.drop(columns=['Placement Status'])\n",
        "test_set.shape"
      ]
    },
    {
      "cell_type": "code",
      "execution_count": 306,
      "metadata": {
        "id": "OUQEKFgt9q1A"
      },
      "outputs": [
        {
          "name": "stderr",
          "output_type": "stream",
          "text": [
            "c:\\Users\\ramya\\AppData\\Local\\Programs\\Python\\Python311\\Lib\\site-packages\\sklearn\\base.py:432: UserWarning: X has feature names, but LogisticRegression was fitted without feature names\n",
            "  warnings.warn(\n"
          ]
        }
      ],
      "source": [
        "test_pred = model.predict(test_set)"
      ]
    },
    {
      "cell_type": "code",
      "execution_count": 307,
      "metadata": {
        "id": "4dR5T10NtFaF"
      },
      "outputs": [],
      "source": [
        "pptest['Placement Status'] = test_pred"
      ]
    },
    {
      "cell_type": "code",
      "execution_count": 308,
      "metadata": {
        "colab": {
          "base_uri": "https://localhost:8080/"
        },
        "id": "ZZ1mXDrGtODU",
        "outputId": "9ded4bbe-da62-48fb-9d82-2f58ae30be3e"
      },
      "outputs": [
        {
          "data": {
            "text/plain": [
              "0    3702\n",
              "1      94\n",
              "Name: Placement Status, dtype: int64"
            ]
          },
          "execution_count": 308,
          "metadata": {},
          "output_type": "execute_result"
        }
      ],
      "source": [
        "pptest['Placement Status'].value_counts()"
      ]
    },
    {
      "cell_type": "code",
      "execution_count": 309,
      "metadata": {},
      "outputs": [],
      "source": [
        "#map predicted placement status values to understandable values\n",
        "placement_status_map = {\n",
        "    0: \"Not Placed\",\n",
        "    1: \"Placed\"}\n",
        "pptest['Placement Status'] = pptest['Placement Status'].replace(placement_status_map)"
      ]
    },
    {
      "cell_type": "code",
      "execution_count": 310,
      "metadata": {},
      "outputs": [
        {
          "data": {
            "text/plain": [
              "Not Placed    3702\n",
              "Placed          94\n",
              "Name: Placement Status, dtype: int64"
            ]
          },
          "execution_count": 310,
          "metadata": {},
          "output_type": "execute_result"
        }
      ],
      "source": [
        "pptest['Placement Status'].value_counts()"
      ]
    },
    {
      "cell_type": "code",
      "execution_count": 311,
      "metadata": {
        "id": "CRJHAG_8rY_y"
      },
      "outputs": [],
      "source": [
        "#save predicted results as csv file\n",
        "savepath = \"C:/Users/ramya/Documents/Cloud Counselage Intern/Machine Learning Intern Projects/Placement Status Prediction/\"\n",
        "pptest.to_csv(savepath+\"Placement_Status_Prediction_Results.csv\")"
      ]
    }
  ],
  "metadata": {
    "colab": {
      "provenance": []
    },
    "kernelspec": {
      "display_name": "Python 3",
      "name": "python3"
    },
    "language_info": {
      "codemirror_mode": {
        "name": "ipython",
        "version": 3
      },
      "file_extension": ".py",
      "mimetype": "text/x-python",
      "name": "python",
      "nbconvert_exporter": "python",
      "pygments_lexer": "ipython3",
      "version": "3.11.3"
    }
  },
  "nbformat": 4,
  "nbformat_minor": 0
}
